{
 "cells": [
  {
   "cell_type": "code",
   "execution_count": 162,
   "id": "13db64b9-86a6-4e97-8147-e89ea29cd6f2",
   "metadata": {},
   "outputs": [],
   "source": [
    "import numpy as np\n",
    "import pandas as pd\n",
    "from sklearn.preprocessing import StandardScaler\n",
    "from sklearn.model_selection import  StratifiedKFold, GroupShuffleSplit\n",
    "from sklearn.model_selection import GridSearchCV\n",
    "from sklearn.model_selection import GroupKFold, cross_val_score\n",
    "from sklearn.metrics import make_scorer, ndcg_score, dcg_score\n",
    "from sklearn.preprocessing import StandardScaler, LabelBinarizer\n",
    "from lightgbm import LGBMRanker\n",
    "import lightgbm as lgb"
   ]
  },
  {
   "cell_type": "code",
   "execution_count": 163,
   "id": "4319ec7e-5882-4bad-ad8b-2db668e1dac2",
   "metadata": {},
   "outputs": [
    {
     "name": "stdout",
     "output_type": "stream",
     "text": [
      "[LightGBM] [Info] Auto-choosing col-wise multi-threading, the overhead of testing was 0.014934 seconds.\n",
      "You can set `force_col_wise=true` to remove the overhead.\n",
      "[LightGBM] [Info] Total Bins 11705\n",
      "[LightGBM] [Info] Number of data points in the train set: 15069, number of used features: 68\n",
      "[LightGBM] [Warning] No further splits with positive gain, best gain: -inf\n",
      "Training until validation scores don't improve for 30 rounds\n",
      "[LightGBM] [Warning] No further splits with positive gain, best gain: -inf\n",
      "[LightGBM] [Warning] No further splits with positive gain, best gain: -inf\n",
      "[LightGBM] [Warning] No further splits with positive gain, best gain: -inf\n",
      "[LightGBM] [Warning] No further splits with positive gain, best gain: -inf\n",
      "[LightGBM] [Warning] No further splits with positive gain, best gain: -inf\n",
      "[LightGBM] [Warning] No further splits with positive gain, best gain: -inf\n",
      "[LightGBM] [Warning] No further splits with positive gain, best gain: -inf\n",
      "[LightGBM] [Warning] No further splits with positive gain, best gain: -inf\n",
      "[LightGBM] [Warning] No further splits with positive gain, best gain: -inf\n",
      "[LightGBM] [Warning] No further splits with positive gain, best gain: -inf\n",
      "[LightGBM] [Warning] No further splits with positive gain, best gain: -inf\n",
      "[LightGBM] [Warning] No further splits with positive gain, best gain: -inf\n",
      "[LightGBM] [Warning] No further splits with positive gain, best gain: -inf\n",
      "[LightGBM] [Warning] No further splits with positive gain, best gain: -inf\n",
      "[LightGBM] [Warning] No further splits with positive gain, best gain: -inf\n",
      "[LightGBM] [Warning] No further splits with positive gain, best gain: -inf\n",
      "[LightGBM] [Warning] No further splits with positive gain, best gain: -inf\n",
      "[LightGBM] [Warning] No further splits with positive gain, best gain: -inf\n",
      "[LightGBM] [Warning] No further splits with positive gain, best gain: -inf\n",
      "[LightGBM] [Warning] No further splits with positive gain, best gain: -inf\n",
      "[LightGBM] [Warning] No further splits with positive gain, best gain: -inf\n",
      "[LightGBM] [Warning] No further splits with positive gain, best gain: -inf\n",
      "[LightGBM] [Warning] No further splits with positive gain, best gain: -inf\n",
      "[LightGBM] [Warning] No further splits with positive gain, best gain: -inf\n",
      "[LightGBM] [Warning] No further splits with positive gain, best gain: -inf\n",
      "[LightGBM] [Warning] No further splits with positive gain, best gain: -inf\n",
      "[LightGBM] [Warning] No further splits with positive gain, best gain: -inf\n",
      "[LightGBM] [Warning] No further splits with positive gain, best gain: -inf\n",
      "[LightGBM] [Warning] No further splits with positive gain, best gain: -inf\n",
      "[LightGBM] [Warning] No further splits with positive gain, best gain: -inf\n",
      "[LightGBM] [Warning] No further splits with positive gain, best gain: -inf\n",
      "[LightGBM] [Warning] No further splits with positive gain, best gain: -inf\n",
      "[LightGBM] [Warning] No further splits with positive gain, best gain: -inf\n",
      "[LightGBM] [Warning] No further splits with positive gain, best gain: -inf\n",
      "[LightGBM] [Warning] No further splits with positive gain, best gain: -inf\n",
      "[LightGBM] [Warning] No further splits with positive gain, best gain: -inf\n",
      "[LightGBM] [Warning] No further splits with positive gain, best gain: -inf\n",
      "[LightGBM] [Warning] No further splits with positive gain, best gain: -inf\n",
      "[LightGBM] [Warning] No further splits with positive gain, best gain: -inf\n",
      "Early stopping, best iteration is:\n",
      "[10]\tvalid_0's ndcg@1: 0.87\tvalid_0's ndcg@5: 0.902341\tvalid_0's ndcg@10: 0.919737\tvalid_0's ndcg@20: 0.92519\tvalid_0's ndcg@30: 0.92519\n",
      "Evaluated only: ndcg@1\n"
     ]
    },
    {
     "data": {
      "text/html": [
       "<style>#sk-container-id-11 {color: black;background-color: white;}#sk-container-id-11 pre{padding: 0;}#sk-container-id-11 div.sk-toggleable {background-color: white;}#sk-container-id-11 label.sk-toggleable__label {cursor: pointer;display: block;width: 100%;margin-bottom: 0;padding: 0.3em;box-sizing: border-box;text-align: center;}#sk-container-id-11 label.sk-toggleable__label-arrow:before {content: \"▸\";float: left;margin-right: 0.25em;color: #696969;}#sk-container-id-11 label.sk-toggleable__label-arrow:hover:before {color: black;}#sk-container-id-11 div.sk-estimator:hover label.sk-toggleable__label-arrow:before {color: black;}#sk-container-id-11 div.sk-toggleable__content {max-height: 0;max-width: 0;overflow: hidden;text-align: left;background-color: #f0f8ff;}#sk-container-id-11 div.sk-toggleable__content pre {margin: 0.2em;color: black;border-radius: 0.25em;background-color: #f0f8ff;}#sk-container-id-11 input.sk-toggleable__control:checked~div.sk-toggleable__content {max-height: 200px;max-width: 100%;overflow: auto;}#sk-container-id-11 input.sk-toggleable__control:checked~label.sk-toggleable__label-arrow:before {content: \"▾\";}#sk-container-id-11 div.sk-estimator input.sk-toggleable__control:checked~label.sk-toggleable__label {background-color: #d4ebff;}#sk-container-id-11 div.sk-label input.sk-toggleable__control:checked~label.sk-toggleable__label {background-color: #d4ebff;}#sk-container-id-11 input.sk-hidden--visually {border: 0;clip: rect(1px 1px 1px 1px);clip: rect(1px, 1px, 1px, 1px);height: 1px;margin: -1px;overflow: hidden;padding: 0;position: absolute;width: 1px;}#sk-container-id-11 div.sk-estimator {font-family: monospace;background-color: #f0f8ff;border: 1px dotted black;border-radius: 0.25em;box-sizing: border-box;margin-bottom: 0.5em;}#sk-container-id-11 div.sk-estimator:hover {background-color: #d4ebff;}#sk-container-id-11 div.sk-parallel-item::after {content: \"\";width: 100%;border-bottom: 1px solid gray;flex-grow: 1;}#sk-container-id-11 div.sk-label:hover label.sk-toggleable__label {background-color: #d4ebff;}#sk-container-id-11 div.sk-serial::before {content: \"\";position: absolute;border-left: 1px solid gray;box-sizing: border-box;top: 0;bottom: 0;left: 50%;z-index: 0;}#sk-container-id-11 div.sk-serial {display: flex;flex-direction: column;align-items: center;background-color: white;padding-right: 0.2em;padding-left: 0.2em;position: relative;}#sk-container-id-11 div.sk-item {position: relative;z-index: 1;}#sk-container-id-11 div.sk-parallel {display: flex;align-items: stretch;justify-content: center;background-color: white;position: relative;}#sk-container-id-11 div.sk-item::before, #sk-container-id-11 div.sk-parallel-item::before {content: \"\";position: absolute;border-left: 1px solid gray;box-sizing: border-box;top: 0;bottom: 0;left: 50%;z-index: -1;}#sk-container-id-11 div.sk-parallel-item {display: flex;flex-direction: column;z-index: 1;position: relative;background-color: white;}#sk-container-id-11 div.sk-parallel-item:first-child::after {align-self: flex-end;width: 50%;}#sk-container-id-11 div.sk-parallel-item:last-child::after {align-self: flex-start;width: 50%;}#sk-container-id-11 div.sk-parallel-item:only-child::after {width: 0;}#sk-container-id-11 div.sk-dashed-wrapped {border: 1px dashed gray;margin: 0 0.4em 0.5em 0.4em;box-sizing: border-box;padding-bottom: 0.4em;background-color: white;}#sk-container-id-11 div.sk-label label {font-family: monospace;font-weight: bold;display: inline-block;line-height: 1.2em;}#sk-container-id-11 div.sk-label-container {text-align: center;}#sk-container-id-11 div.sk-container {/* jupyter's `normalize.less` sets `[hidden] { display: none; }` but bootstrap.min.css set `[hidden] { display: none !important; }` so we also need the `!important` here to be able to override the default hidden behavior on the sphinx rendered scikit-learn.org. See: https://github.com/scikit-learn/scikit-learn/issues/21755 */display: inline-block !important;position: relative;}#sk-container-id-11 div.sk-text-repr-fallback {display: none;}</style><div id=\"sk-container-id-11\" class=\"sk-top-container\"><div class=\"sk-text-repr-fallback\"><pre>LGBMRanker(colsample_bytree=0.844, max_depth=62, min_child_samples=1500,\n",
       "           min_child_weight=0.00415, min_split_gain=0.0279, n_estimators=200,\n",
       "           n_jobs=-1, num_leaves=256, random_state=33, reg_alpha=0.3605,\n",
       "           reg_lambda=0.4198, subsample=0.2429)</pre><b>In a Jupyter environment, please rerun this cell to show the HTML representation or trust the notebook. <br />On GitHub, the HTML representation is unable to render, please try loading this page with nbviewer.org.</b></div><div class=\"sk-container\" hidden><div class=\"sk-item\"><div class=\"sk-estimator sk-toggleable\"><input class=\"sk-toggleable__control sk-hidden--visually\" id=\"sk-estimator-id-11\" type=\"checkbox\" checked><label for=\"sk-estimator-id-11\" class=\"sk-toggleable__label sk-toggleable__label-arrow\">LGBMRanker</label><div class=\"sk-toggleable__content\"><pre>LGBMRanker(colsample_bytree=0.844, max_depth=62, min_child_samples=1500,\n",
       "           min_child_weight=0.00415, min_split_gain=0.0279, n_estimators=200,\n",
       "           n_jobs=-1, num_leaves=256, random_state=33, reg_alpha=0.3605,\n",
       "           reg_lambda=0.4198, subsample=0.2429)</pre></div></div></div></div></div>"
      ],
      "text/plain": [
       "LGBMRanker(colsample_bytree=0.844, max_depth=62, min_child_samples=1500,\n",
       "           min_child_weight=0.00415, min_split_gain=0.0279, n_estimators=200,\n",
       "           n_jobs=-1, num_leaves=256, random_state=33, reg_alpha=0.3605,\n",
       "           reg_lambda=0.4198, subsample=0.2429)"
      ]
     },
     "execution_count": 163,
     "metadata": {},
     "output_type": "execute_result"
    }
   ],
   "source": [
    "train_df = pd.read_csv('train_df.csv').drop_duplicates()\n",
    "test_df = pd.read_csv('test_df.csv').drop_duplicates()\n",
    "\n",
    "scaler = StandardScaler()\n",
    "features = train_df.drop(['search_id', 'target'], axis=1)\n",
    "features_test = test_df.drop(['search_id', 'target'], axis=1)\n",
    "features_norm = scaler.fit_transform(features)\n",
    "df_norm = pd.DataFrame(features_norm, columns=features.columns)\n",
    "features_test_norm = scaler.fit_transform(features_test)\n",
    "df_test_norm = pd.DataFrame(features_test_norm, columns=features_test.columns)\n",
    "\n",
    "X_train = df_norm\n",
    "Y_train = train_df['target']\n",
    "group_train = train_df.groupby('search_id').size().to_numpy()\n",
    "\n",
    "X_test = df_test_norm\n",
    "Y_test = test_df['target']\n",
    "group_test = test_df.groupby('search_id').size().to_numpy()\n",
    "\n",
    "ranker = LGBMRanker(n_estimators = 200,\n",
    "                         learning_rate = 0.1,\n",
    "                         random_state = 33,\n",
    "                         n_jobs = -1,\n",
    "                         colsample_bytree= 0.844,\n",
    "                         max_depth= 62,\n",
    "                         min_child_samples= 1500,\n",
    "                         min_child_weight=0.00415,\n",
    "                         min_split_gain= 0.0279,\n",
    "                         num_leaves= 256,\n",
    "                         reg_alpha= 0.3605,\n",
    "                         reg_lambda= 0.4198,\n",
    "                         subsample= 0.2429)\n",
    "early_stopping_callback = lgb.early_stopping(30, first_metric_only=True, verbose=True)\n",
    "\n",
    "ranker.fit(\n",
    "    X_train, Y_train, \n",
    "    group=group_train, \n",
    "    eval_set=[(X_test, Y_test)], \n",
    "    eval_group=[group_test], \n",
    "    eval_at=[1, 5, 10, 20, 30], \n",
    "    eval_metric = 'ndcg',\n",
    "    callbacks=[early_stopping_callback],\n",
    ")\n",
    "\n",
    "\n"
   ]
  },
  {
   "cell_type": "code",
   "execution_count": 164,
   "id": "63717387-29ff-425c-8043-5835d28e0473",
   "metadata": {},
   "outputs": [
    {
     "name": "stdout",
     "output_type": "stream",
     "text": [
      "Average NDCG score (for all documents): 0.6541264559427336\n"
     ]
    },
    {
     "name": "stderr",
     "output_type": "stream",
     "text": [
      "C:\\Users\\alino\\AppData\\Local\\Temp\\ipykernel_104112\\3401820890.py:10: SettingWithCopyWarning: \n",
      "A value is trying to be set on a copy of a slice from a DataFrame.\n",
      "Try using .loc[row_indexer,col_indexer] = value instead\n",
      "\n",
      "See the caveats in the documentation: https://pandas.pydata.org/pandas-docs/stable/user_guide/indexing.html#returning-a-view-versus-a-copy\n",
      "  df_test_unique['predicted_score'] = Y_pred\n",
      "C:\\Users\\alino\\AppData\\Local\\Temp\\ipykernel_104112\\3401820890.py:12: SettingWithCopyWarning: \n",
      "A value is trying to be set on a copy of a slice from a DataFrame\n",
      "\n",
      "See the caveats in the documentation: https://pandas.pydata.org/pandas-docs/stable/user_guide/indexing.html#returning-a-view-versus-a-copy\n",
      "  df_test_unique.sort_values(by=['search_id', 'predicted_score'], ascending=[True, False], inplace=True)\n"
     ]
    }
   ],
   "source": [
    "df_test_ = pd.read_csv('test_df.csv')\n",
    "df_test_unique = df_test_.drop_duplicates()\n",
    "features_t = df_test_unique.drop(['search_id', 'target'], axis=1)\n",
    "features_norm_t = scaler.fit_transform(features_t)\n",
    "df_t_norm = pd.DataFrame(features_norm_t, columns=features_t.columns)\n",
    "\n",
    "X_test_t = df_t_norm\n",
    "Y_pred = ranker.predict(X_test_t)\n",
    "\n",
    "df_test_unique['predicted_score'] = Y_pred\n",
    "\n",
    "df_test_unique.sort_values(by=['search_id', 'predicted_score'], ascending=[True, False], inplace=True)\n",
    "\n",
    "\n",
    "ndcg_scores = []\n",
    "\n",
    "for group_id, group in df_test_unique.groupby('search_id'):\n",
    "    if len(group) <= 1:\n",
    "        continue\n",
    "    true_relevance = group['target'].values\n",
    "    predicted_scores = group['predicted_score'].values\n",
    "    ndcg = ndcg_score([true_relevance], [predicted_scores], k=20)\n",
    "    if ndcg > 0.0:\n",
    "        ndcg_scores.append(ndcg)\n",
    "\n",
    "average_ndcg = np.mean(ndcg_scores)\n",
    "print(f'Average NDCG score (for all documents): {average_ndcg}')"
   ]
  }
 ],
 "metadata": {
  "kernelspec": {
   "display_name": "Python 3 (ipykernel)",
   "language": "python",
   "name": "python3"
  },
  "language_info": {
   "codemirror_mode": {
    "name": "ipython",
    "version": 3
   },
   "file_extension": ".py",
   "mimetype": "text/x-python",
   "name": "python",
   "nbconvert_exporter": "python",
   "pygments_lexer": "ipython3",
   "version": "3.11.7"
  }
 },
 "nbformat": 4,
 "nbformat_minor": 5
}
